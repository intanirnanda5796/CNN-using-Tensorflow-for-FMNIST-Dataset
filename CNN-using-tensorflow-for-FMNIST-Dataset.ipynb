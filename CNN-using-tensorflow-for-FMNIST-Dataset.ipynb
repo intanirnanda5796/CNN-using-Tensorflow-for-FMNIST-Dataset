{
  "nbformat": 4,
  "nbformat_minor": 0,
  "metadata": {
    "colab": {
      "name": "IntanIrnanda_NadiaSavitri_TC4C_FMNSIT.ipynb",
      "version": "0.3.2",
      "provenance": [],
      "collapsed_sections": []
    },
    "kernelspec": {
      "name": "python3",
      "display_name": "Python 3"
    }
  },
  "cells": [
    {
      "cell_type": "markdown",
      "metadata": {
        "id": "baEaY1hOdNPg",
        "colab_type": "text"
      },
      "source": [
        "### Download Dataset"
      ]
    },
    {
      "cell_type": "markdown",
      "metadata": {
        "id": "gnBiaxffdUwK",
        "colab_type": "text"
      },
      "source": [
        "To get FMNIST dataset, we can easily download the data because the data has been published online"
      ]
    },
    {
      "cell_type": "code",
      "metadata": {
        "id": "ZPebu4soyAUx",
        "colab_type": "code",
        "outputId": "e34e0435-22fb-4773-b3e0-8ee6f19b9fef",
        "colab": {
          "base_uri": "https://localhost:8080/",
          "height": 799
        }
      },
      "source": [
        "!mkdir data\n",
        "!mkdir data/fashion\n",
        "!wget -O data/fashion/train-images-idx3-ubyte.gz http://fashion-mnist.s3-website.eu-central-1.amazonaws.com/train-images-idx3-ubyte.gz\n",
        "!wget -O data/fashion/train-labels-idx1-ubyte.gz http://fashion-mnist.s3-website.eu-central-1.amazonaws.com/train-labels-idx1-ubyte.gz\n",
        "!wget -O data/fashion/t10k-images-idx3-ubyte.gz http://fashion-mnist.s3-website.eu-central-1.amazonaws.com/t10k-images-idx3-ubyte.gz\n",
        "!wget -O data/fashion/t10k-labels-idx1-ubyte.gz http://fashion-mnist.s3-website.eu-central-1.amazonaws.com/t10k-labels-idx1-ubyte.gz"
      ],
      "execution_count": 0,
      "outputs": [
        {
          "output_type": "stream",
          "text": [
            "mkdir: cannot create directory ‘data’: File exists\n",
            "mkdir: cannot create directory ‘data/fashion’: File exists\n",
            "--2019-08-08 15:10:48--  http://fashion-mnist.s3-website.eu-central-1.amazonaws.com/train-images-idx3-ubyte.gz\n",
            "Resolving fashion-mnist.s3-website.eu-central-1.amazonaws.com (fashion-mnist.s3-website.eu-central-1.amazonaws.com)... 52.219.73.158\n",
            "Connecting to fashion-mnist.s3-website.eu-central-1.amazonaws.com (fashion-mnist.s3-website.eu-central-1.amazonaws.com)|52.219.73.158|:80... connected.\n",
            "HTTP request sent, awaiting response... 200 OK\n",
            "Length: 26421880 (25M) [binary/octet-stream]\n",
            "Saving to: ‘data/fashion/train-images-idx3-ubyte.gz’\n",
            "\n",
            "data/fashion/train- 100%[===================>]  25.20M  12.0MB/s    in 2.1s    \n",
            "\n",
            "2019-08-08 15:10:50 (12.0 MB/s) - ‘data/fashion/train-images-idx3-ubyte.gz’ saved [26421880/26421880]\n",
            "\n",
            "--2019-08-08 15:10:51--  http://fashion-mnist.s3-website.eu-central-1.amazonaws.com/train-labels-idx1-ubyte.gz\n",
            "Resolving fashion-mnist.s3-website.eu-central-1.amazonaws.com (fashion-mnist.s3-website.eu-central-1.amazonaws.com)... 52.219.73.158\n",
            "Connecting to fashion-mnist.s3-website.eu-central-1.amazonaws.com (fashion-mnist.s3-website.eu-central-1.amazonaws.com)|52.219.73.158|:80... connected.\n",
            "HTTP request sent, awaiting response... 200 OK\n",
            "Length: 29515 (29K) [binary/octet-stream]\n",
            "Saving to: ‘data/fashion/train-labels-idx1-ubyte.gz’\n",
            "\n",
            "data/fashion/train- 100%[===================>]  28.82K  --.-KB/s    in 0.1s    \n",
            "\n",
            "2019-08-08 15:10:52 (202 KB/s) - ‘data/fashion/train-labels-idx1-ubyte.gz’ saved [29515/29515]\n",
            "\n",
            "--2019-08-08 15:10:53--  http://fashion-mnist.s3-website.eu-central-1.amazonaws.com/t10k-images-idx3-ubyte.gz\n",
            "Resolving fashion-mnist.s3-website.eu-central-1.amazonaws.com (fashion-mnist.s3-website.eu-central-1.amazonaws.com)... 52.219.74.58\n",
            "Connecting to fashion-mnist.s3-website.eu-central-1.amazonaws.com (fashion-mnist.s3-website.eu-central-1.amazonaws.com)|52.219.74.58|:80... connected.\n",
            "HTTP request sent, awaiting response... 200 OK\n",
            "Length: 4422102 (4.2M) [binary/octet-stream]\n",
            "Saving to: ‘data/fashion/t10k-images-idx3-ubyte.gz’\n",
            "\n",
            "data/fashion/t10k-i 100%[===================>]   4.22M  3.68MB/s    in 1.1s    \n",
            "\n",
            "2019-08-08 15:10:55 (3.68 MB/s) - ‘data/fashion/t10k-images-idx3-ubyte.gz’ saved [4422102/4422102]\n",
            "\n",
            "--2019-08-08 15:10:58--  http://fashion-mnist.s3-website.eu-central-1.amazonaws.com/t10k-labels-idx1-ubyte.gz\n",
            "Resolving fashion-mnist.s3-website.eu-central-1.amazonaws.com (fashion-mnist.s3-website.eu-central-1.amazonaws.com)... 52.219.72.162\n",
            "Connecting to fashion-mnist.s3-website.eu-central-1.amazonaws.com (fashion-mnist.s3-website.eu-central-1.amazonaws.com)|52.219.72.162|:80... connected.\n",
            "HTTP request sent, awaiting response... 200 OK\n",
            "Length: 5148 (5.0K) [binary/octet-stream]\n",
            "Saving to: ‘data/fashion/t10k-labels-idx1-ubyte.gz’\n",
            "\n",
            "data/fashion/t10k-l 100%[===================>]   5.03K  --.-KB/s    in 0s      \n",
            "\n",
            "2019-08-08 15:10:59 (419 MB/s) - ‘data/fashion/t10k-labels-idx1-ubyte.gz’ saved [5148/5148]\n",
            "\n"
          ],
          "name": "stdout"
        }
      ]
    },
    {
      "cell_type": "markdown",
      "metadata": {
        "id": "bY3VHiUedejU",
        "colab_type": "text"
      },
      "source": [
        "### Import Dataset"
      ]
    },
    {
      "cell_type": "markdown",
      "metadata": {
        "id": "HF4FXRVmdhwU",
        "colab_type": "text"
      },
      "source": [
        "Import the FMNIST dataset into a variable"
      ]
    },
    {
      "cell_type": "code",
      "metadata": {
        "id": "ZusFUM4FyFAA",
        "colab_type": "code",
        "outputId": "f07bf15d-7f4a-4ecc-bb2e-540190b771b3",
        "colab": {
          "base_uri": "https://localhost:8080/",
          "height": 85
        }
      },
      "source": [
        "import numpy as np\n",
        "import matplotlib.pyplot as plt\n",
        "import tensorflow as tf\n",
        "from tensorflow.examples.tutorials.mnist import input_data\n",
        "\n",
        "data = input_data.read_data_sets('data/fashion',one_hot=True)"
      ],
      "execution_count": 0,
      "outputs": [
        {
          "output_type": "stream",
          "text": [
            "Extracting data/fashion/train-images-idx3-ubyte.gz\n",
            "Extracting data/fashion/train-labels-idx1-ubyte.gz\n",
            "Extracting data/fashion/t10k-images-idx3-ubyte.gz\n",
            "Extracting data/fashion/t10k-labels-idx1-ubyte.gz\n"
          ],
          "name": "stdout"
        }
      ]
    },
    {
      "cell_type": "markdown",
      "metadata": {
        "id": "VS0C61GkdpTQ",
        "colab_type": "text"
      },
      "source": [
        "### Data Analysis"
      ]
    },
    {
      "cell_type": "markdown",
      "metadata": {
        "id": "Lu8IraEMdrUY",
        "colab_type": "text"
      },
      "source": [
        "Before starting to the next stage, it would be nice if we look at the form of the dataset we will use. First, we can examine the dimensions and scale of the dataset we will use."
      ]
    },
    {
      "cell_type": "code",
      "metadata": {
        "id": "H001GrHwyuyu",
        "colab_type": "code",
        "outputId": "b714096e-bbe5-4640-f47a-83f45d0e4df5",
        "colab": {
          "base_uri": "https://localhost:8080/",
          "height": 85
        }
      },
      "source": [
        "# Shapes of training set\n",
        "print(\"Training set (images) shape: {shape}\".format(shape=data.train.images.shape))\n",
        "print(\"Training set (labels) shape: {shape}\".format(shape=data.train.labels.shape))\n",
        "\n",
        "# Shapes of test set\n",
        "print(\"Test set (images) shape: {shape}\".format(shape=data.test.images.shape))\n",
        "print(\"Test set (labels) shape: {shape}\".format(shape=data.test.labels.shape))"
      ],
      "execution_count": 0,
      "outputs": [
        {
          "output_type": "stream",
          "text": [
            "Training set (images) shape: (55000, 784)\n",
            "Training set (labels) shape: (55000, 10)\n",
            "Test set (images) shape: (10000, 784)\n",
            "Test set (labels) shape: (10000, 10)\n"
          ],
          "name": "stdout"
        }
      ]
    },
    {
      "cell_type": "markdown",
      "metadata": {
        "id": "sHQrVk4Cd1N6",
        "colab_type": "text"
      },
      "source": [
        "Based on the above output, we can see that the dataset we will use has the following size :\n",
        "\n",
        "- for training data using 55,000 data samples\n",
        "- for testing data using 10,000 data samples\n",
        "- for data validation using 5000 data samples\n",
        "\n",
        "which has a vector dimension of 784 or 28x28 pixels. Each data has an association label consisting of 10 classes"
      ]
    },
    {
      "cell_type": "code",
      "metadata": {
        "id": "S0QlE6eGy3lm",
        "colab_type": "code",
        "colab": {}
      },
      "source": [
        "# Create dictionary of target classes\n",
        "label_dict = {\n",
        " 0: 'T-shirt/top',\n",
        " 1: 'Trouser',\n",
        " 2: 'Pullover',\n",
        " 3: 'Dress',\n",
        " 4: 'Coat',\n",
        " 5: 'Sandal',\n",
        " 6: 'Shirt',\n",
        " 7: 'Sneaker',\n",
        " 8: 'Bag',\n",
        " 9: 'Ankle boot',\n",
        "}"
      ],
      "execution_count": 0,
      "outputs": []
    },
    {
      "cell_type": "markdown",
      "metadata": {
        "id": "pL1o23D_d-Ph",
        "colab_type": "text"
      },
      "source": [
        "In addition, let's look at the images in the dataset:"
      ]
    },
    {
      "cell_type": "code",
      "metadata": {
        "id": "EopaC_k1y6J2",
        "colab_type": "code",
        "outputId": "58993f94-3d09-4ab3-d924-5a942a3f9b12",
        "colab": {
          "base_uri": "https://localhost:8080/",
          "height": 208
        }
      },
      "source": [
        "plt.figure(figsize=[5,5])\n",
        "\n",
        "# Display the first image in training data\n",
        "plt.subplot(121)\n",
        "curr_img = np.reshape(data.train.images[0], (28,28))\n",
        "curr_lbl = np.argmax(data.train.labels[0,:])\n",
        "plt.imshow(curr_img, cmap='gray')\n",
        "plt.title(\"(Label: \" + str(label_dict[curr_lbl]) + \")\")\n",
        "\n",
        "# Display the first image in testing data\n",
        "plt.subplot(122)\n",
        "curr_img = np.reshape(data.test.images[0], (28,28))\n",
        "curr_lbl = np.argmax(data.test.labels[0,:])\n",
        "plt.imshow(curr_img, cmap='gray')\n",
        "plt.title(\"(Label: \" + str(label_dict[curr_lbl]) + \")\")"
      ],
      "execution_count": 0,
      "outputs": [
        {
          "output_type": "execute_result",
          "data": {
            "text/plain": [
              "Text(0.5, 1.0, '(Label: Ankle boot)')"
            ]
          },
          "metadata": {
            "tags": []
          },
          "execution_count": 15
        },
        {
          "output_type": "display_data",
          "data": {
            "image/png": "[encoded data removed]",
            "text/plain": [
              "<Figure size 360x360 with 2 Axes>"
            ]
          },
          "metadata": {
            "tags": []
          }
        }
      ]
    },
    {
      "cell_type": "markdown",
      "metadata": {
        "id": "hFawoBf0eFd6",
        "colab_type": "text"
      },
      "source": [
        "### Data Matrix"
      ]
    },
    {
      "cell_type": "markdown",
      "metadata": {
        "id": "XrBIezTleH-m",
        "colab_type": "text"
      },
      "source": [
        "The data that we will use has a measurement between 0 and 1, to prove it, let's show the matrix of each image and we display the min and max values ​​of the image."
      ]
    },
    {
      "cell_type": "code",
      "metadata": {
        "id": "On576YifzDPl",
        "colab_type": "code",
        "outputId": "61e044f0-95d2-4396-83bb-c6b19320abfd",
        "colab": {
          "base_uri": "https://localhost:8080/",
          "height": 1000
        }
      },
      "source": [
        "data.train.images[0]"
      ],
      "execution_count": 0,
      "outputs": [
        {
          "output_type": "execute_result",
          "data": {
            "text/plain": [
              "array([0.        , 0.        , 0.        , 0.        , 0.        ,\n",
              "       0.        , 0.        , 0.        , 0.        , 0.        ,\n",
              "       0.        , 0.        , 0.        , 0.        , 0.        ,\n",
              "       0.        , 0.        , 0.        , 0.        , 0.00392157,\n",
              "       0.        , 0.        , 0.        , 0.        , 0.        ,\n",
              "       0.        , 0.        , 0.        , 0.        , 0.        ,\n",
              "       0.        , 0.        , 0.        , 0.        , 0.        ,\n",
              "       0.        , 0.        , 0.        , 0.        , 0.17254902,\n",
              "       0.49803925, 0.7137255 , 0.7254902 , 0.6313726 , 0.47058827,\n",
              "       0.21568629, 0.        , 0.        , 0.        , 0.        ,\n",
              "       0.        , 0.        , 0.        , 0.        , 0.        ,\n",
              "       0.        , 0.        , 0.        , 0.        , 0.        ,\n",
              "       0.        , 0.        , 0.        , 0.        , 0.        ,\n",
              "       0.16470589, 0.77647066, 0.9843138 , 1.        , 0.9843138 ,\n",
              "       0.97647065, 0.9686275 , 1.        , 0.98823535, 0.83921576,\n",
              "       0.3921569 , 0.        , 0.        , 0.        , 0.        ,\n",
              "       0.        , 0.        , 0.        , 0.        , 0.        ,\n",
              "       0.        , 0.        , 0.        , 0.        , 0.        ,\n",
              "       0.00784314, 0.        , 0.        , 0.91372555, 0.98823535,\n",
              "       0.9294118 , 0.93725497, 0.9176471 , 0.9294118 , 0.9215687 ,\n",
              "       0.9294118 , 0.9294118 , 0.9960785 , 0.89019614, 0.        ,\n",
              "       0.        , 0.        , 0.        , 0.00392157, 0.        ,\n",
              "       0.        , 0.        , 0.        , 0.        , 0.        ,\n",
              "       0.        , 0.        , 0.00784314, 0.        , 0.        ,\n",
              "       0.0627451 , 0.8235295 , 0.882353  , 0.8431373 , 0.6862745 ,\n",
              "       0.85098046, 0.8470589 , 0.7568628 , 0.7686275 , 0.8862746 ,\n",
              "       0.86666673, 0.8196079 , 0.19607845, 0.        , 0.        ,\n",
              "       0.00784314, 0.        , 0.        , 0.        , 0.        ,\n",
              "       0.        , 0.        , 0.        , 0.        , 0.00784314,\n",
              "       0.        , 0.        , 0.7803922 , 0.8980393 , 0.909804  ,\n",
              "       0.90196085, 0.9607844 , 0.8000001 , 0.8588236 , 0.9921569 ,\n",
              "       0.9607844 , 0.8117648 , 0.7607844 , 0.8745099 , 0.9058824 ,\n",
              "       0.92549026, 0.9215687 , 0.        , 0.        , 0.01176471,\n",
              "       0.        , 0.        , 0.        , 0.        , 0.        ,\n",
              "       0.        , 0.        , 0.00392157, 0.        , 0.5372549 ,\n",
              "       0.9215687 , 0.8000001 , 0.8196079 , 0.78823537, 0.8196079 ,\n",
              "       0.9176471 , 0.74509805, 0.9176471 , 0.854902  , 0.8431373 ,\n",
              "       0.9333334 , 0.93725497, 0.8000001 , 0.7411765 , 0.87843144,\n",
              "       0.6039216 , 0.        , 0.        , 0.        , 0.        ,\n",
              "       0.        , 0.        , 0.        , 0.        , 0.        ,\n",
              "       0.        , 0.        , 0.7607844 , 0.78823537, 0.7843138 ,\n",
              "       0.8196079 , 0.79215693, 0.7568628 , 0.80392164, 0.7607844 ,\n",
              "       0.7176471 , 0.854902  , 0.9058824 , 0.7725491 , 0.6745098 ,\n",
              "       0.70980394, 0.7568628 , 0.80392164, 0.7803922 , 0.        ,\n",
              "       0.        , 0.        , 0.        , 0.        , 0.        ,\n",
              "       0.        , 0.        , 0.        , 0.        , 0.01176471,\n",
              "       0.8313726 , 0.7960785 , 0.7372549 , 0.7411765 , 0.7686275 ,\n",
              "       0.77647066, 0.77647066, 0.78823537, 0.7686275 , 0.85098046,\n",
              "       0.7019608 , 0.654902  , 0.7176471 , 0.85098046, 0.7725491 ,\n",
              "       0.79215693, 0.8588236 , 0.11764707, 0.        , 0.        ,\n",
              "       0.        , 0.        , 0.        , 0.        , 0.        ,\n",
              "       0.        , 0.        , 0.13333334, 0.882353  , 0.7843138 ,\n",
              "       0.7607844 , 0.74509805, 0.7372549 , 0.75294125, 0.7686275 ,\n",
              "       0.75294125, 0.6666667 , 0.79215693, 0.74509805, 0.78823537,\n",
              "       0.76470596, 0.7843138 , 0.78823537, 0.8196079 , 0.89019614,\n",
              "       0.19607845, 0.        , 0.        , 0.        , 0.        ,\n",
              "       0.        , 0.        , 0.        , 0.        , 0.        ,\n",
              "       0.26666668, 0.882353  , 0.8235295 , 0.82745105, 0.77647066,\n",
              "       0.75294125, 0.7686275 , 0.8000001 , 0.7686275 , 0.70980394,\n",
              "       0.8313726 , 0.7725491 , 0.76470596, 0.75294125, 0.8078432 ,\n",
              "       0.86274517, 0.8235295 , 0.8980393 , 0.3647059 , 0.        ,\n",
              "       0.        , 0.        , 0.        , 0.        , 0.        ,\n",
              "       0.        , 0.        , 0.        , 0.43529415, 0.8745099 ,\n",
              "       0.89019614, 0.9921569 , 0.8196079 , 0.7686275 , 0.8000001 ,\n",
              "       0.82745105, 0.8078432 , 0.7176471 , 0.8470589 , 0.8078432 ,\n",
              "       0.8235295 , 0.7960785 , 0.8431373 , 0.9568628 , 0.87843144,\n",
              "       0.89019614, 0.5882353 , 0.        , 0.        , 0.        ,\n",
              "       0.        , 0.        , 0.        , 0.        , 0.        ,\n",
              "       0.        , 0.54509807, 0.882353  , 0.87843144, 1.        ,\n",
              "       0.79215693, 0.8078432 , 0.8313726 , 0.8196079 , 0.82745105,\n",
              "       0.74509805, 0.8352942 , 0.79215693, 0.8117648 , 0.8078432 ,\n",
              "       0.8705883 , 1.        , 0.90196085, 0.86274517, 0.74509805,\n",
              "       0.        , 0.        , 0.        , 0.        , 0.        ,\n",
              "       0.        , 0.        , 0.        , 0.        , 0.7058824 ,\n",
              "       0.8862746 , 0.87843144, 1.        , 0.7803922 , 0.8000001 ,\n",
              "       0.8117648 , 0.83921576, 0.83921576, 0.74509805, 0.8470589 ,\n",
              "       0.8078432 , 0.7960785 , 0.80392164, 0.8588236 , 0.95294124,\n",
              "       0.87843144, 0.83921576, 0.9176471 , 0.        , 0.        ,\n",
              "       0.        , 0.        , 0.        , 0.        , 0.        ,\n",
              "       0.        , 0.        , 0.882353  , 0.8745099 , 0.8941177 ,\n",
              "       0.9960785 , 0.8196079 , 0.8078432 , 0.81568635, 0.8352942 ,\n",
              "       0.8235295 , 0.7490196 , 0.8431373 , 0.8117648 , 0.8000001 ,\n",
              "       0.81568635, 0.82745105, 0.97647065, 0.8862746 , 0.83921576,\n",
              "       1.        , 0.14901961, 0.        , 0.        , 0.        ,\n",
              "       0.        , 0.        , 0.        , 0.        , 0.        ,\n",
              "       0.9803922 , 0.909804  , 0.94117653, 0.93725497, 0.82745105,\n",
              "       0.7960785 , 0.8196079 , 0.80392164, 0.82745105, 0.7725491 ,\n",
              "       0.8431373 , 0.81568635, 0.81568635, 0.83921576, 0.8352942 ,\n",
              "       0.93725497, 0.9058824 , 0.8588236 , 1.        , 0.31764707,\n",
              "       0.        , 0.        , 0.        , 0.        , 0.        ,\n",
              "       0.        , 0.        , 0.        , 0.9725491 , 0.92549026,\n",
              "       0.9686275 , 0.94117653, 0.7960785 , 0.7843138 , 0.81568635,\n",
              "       0.8078432 , 0.83921576, 0.7568628 , 0.8352942 , 0.8313726 ,\n",
              "       0.81568635, 0.8313726 , 0.82745105, 0.95294124, 0.9490197 ,\n",
              "       0.882353  , 0.9960785 , 0.25882354, 0.        , 0.        ,\n",
              "       0.        , 0.        , 0.        , 0.        , 0.        ,\n",
              "       0.        , 0.9686275 , 0.90196085, 0.98823535, 0.8862746 ,\n",
              "       0.7803922 , 0.82745105, 0.79215693, 0.82745105, 0.8352942 ,\n",
              "       0.7137255 , 0.8352942 , 0.8313726 , 0.8078432 , 0.79215693,\n",
              "       0.8588236 , 0.8117648 , 0.9686275 , 0.8705883 , 0.9294118 ,\n",
              "       0.40784317, 0.        , 0.        , 0.        , 0.        ,\n",
              "       0.        , 0.        , 0.        , 0.03921569, 0.9568628 ,\n",
              "       0.8588236 , 0.9803922 , 0.80392164, 0.7803922 , 0.8196079 ,\n",
              "       0.79215693, 0.8196079 , 0.82745105, 0.7411765 , 0.83921576,\n",
              "       0.8078432 , 0.8235295 , 0.7843138 , 0.8313726 , 0.6039216 ,\n",
              "       0.94117653, 0.81568635, 0.8588236 , 0.54901963, 0.        ,\n",
              "       0.        , 0.        , 0.        , 0.        , 0.        ,\n",
              "       0.        , 0.08235294, 1.        , 0.8705883 , 0.9333334 ,\n",
              "       0.72156864, 0.8235295 , 0.75294125, 0.8078432 , 0.8196079 ,\n",
              "       0.8235295 , 0.7411765 , 0.8352942 , 0.82745105, 0.8196079 ,\n",
              "       0.75294125, 0.8941177 , 0.60784316, 0.8862746 , 0.9333334 ,\n",
              "       0.9450981 , 0.6509804 , 0.        , 0.        , 0.        ,\n",
              "       0.        , 0.        , 0.        , 0.        , 0.14509805,\n",
              "       0.9607844 , 0.8862746 , 0.9450981 , 0.5882353 , 0.7725491 ,\n",
              "       0.7411765 , 0.8000001 , 0.8196079 , 0.8235295 , 0.7176471 ,\n",
              "       0.8352942 , 0.8352942 , 0.78823537, 0.72156864, 0.8431373 ,\n",
              "       0.57254905, 0.8470589 , 0.92549026, 0.882353  , 0.6039216 ,\n",
              "       0.        , 0.        , 0.        , 0.        , 0.        ,\n",
              "       0.        , 0.        , 0.227451  , 0.93725497, 0.89019614,\n",
              "       1.        , 0.61960787, 0.7568628 , 0.76470596, 0.8000001 ,\n",
              "       0.8196079 , 0.8352942 , 0.7058824 , 0.8117648 , 0.85098046,\n",
              "       0.7803922 , 0.7607844 , 0.82745105, 0.61960787, 0.8588236 ,\n",
              "       0.92549026, 0.8470589 , 0.5921569 , 0.        , 0.        ,\n",
              "       0.        , 0.        , 0.        , 0.        , 0.        ,\n",
              "       0.26666668, 0.91372555, 0.8862746 , 0.95294124, 0.54509807,\n",
              "       0.7843138 , 0.7568628 , 0.80392164, 0.8235295 , 0.81568635,\n",
              "       0.7058824 , 0.80392164, 0.8313726 , 0.7960785 , 0.7686275 ,\n",
              "       0.8470589 , 0.6156863 , 0.7019608 , 1.        , 0.8470589 ,\n",
              "       0.60784316, 0.        , 0.        , 0.        , 0.        ,\n",
              "       0.        , 0.        , 0.        , 0.31764707, 0.882353  ,\n",
              "       0.87843144, 0.82745105, 0.5411765 , 0.8588236 , 0.7254902 ,\n",
              "       0.78823537, 0.8352942 , 0.8117648 , 0.7725491 , 0.8862746 ,\n",
              "       0.8313726 , 0.7843138 , 0.74509805, 0.8431373 , 0.7176471 ,\n",
              "       0.3529412 , 1.        , 0.82745105, 0.5764706 , 0.        ,\n",
              "       0.        , 0.        , 0.        , 0.        , 0.        ,\n",
              "       0.        , 0.35686275, 0.8235295 , 0.90196085, 0.61960787,\n",
              "       0.44705886, 0.80392164, 0.73333335, 0.81568635, 0.8196079 ,\n",
              "       0.8078432 , 0.7568628 , 0.8235295 , 0.82745105, 0.8000001 ,\n",
              "       0.76470596, 0.8000001 , 0.70980394, 0.09019608, 1.        ,\n",
              "       0.8352942 , 0.61960787, 0.        , 0.        , 0.        ,\n",
              "       0.        , 0.        , 0.        , 0.        , 0.34117648,\n",
              "       0.80392164, 0.909804  , 0.427451  , 0.6431373 , 1.        ,\n",
              "       0.83921576, 0.87843144, 0.8705883 , 0.8235295 , 0.7725491 ,\n",
              "       0.83921576, 0.882353  , 0.8705883 , 0.82745105, 0.86274517,\n",
              "       0.85098046, 0.        , 0.9176471 , 0.8470589 , 0.6627451 ,\n",
              "       0.        , 0.        , 0.        , 0.        , 0.        ,\n",
              "       0.        , 0.        , 0.36078432, 0.8352942 , 0.909804  ,\n",
              "       0.57254905, 0.01960784, 0.5254902 , 0.5921569 , 0.63529414,\n",
              "       0.6666667 , 0.7176471 , 0.7137255 , 0.6431373 , 0.6509804 ,\n",
              "       0.69803923, 0.63529414, 0.6117647 , 0.38431376, 0.        ,\n",
              "       0.94117653, 0.882353  , 0.8235295 , 0.        , 0.        ,\n",
              "       0.        , 0.        , 0.        , 0.        , 0.        ,\n",
              "       0.16862746, 0.6431373 , 0.8078432 , 0.5529412 , 0.        ,\n",
              "       0.        , 0.        , 0.        , 0.        , 0.        ,\n",
              "       0.        , 0.        , 0.        , 0.        , 0.        ,\n",
              "       0.        , 0.        , 0.        , 0.49803925, 0.4901961 ,\n",
              "       0.29803923, 0.        , 0.        , 0.        ], dtype=float32)"
            ]
          },
          "metadata": {
            "tags": []
          },
          "execution_count": 16
        }
      ]
    },
    {
      "cell_type": "code",
      "metadata": {
        "id": "4bFjoJagzkf9",
        "colab_type": "code",
        "outputId": "7930b98c-ef52-4bfd-c148-8e5f2ae6f56d",
        "colab": {
          "base_uri": "https://localhost:8080/",
          "height": 34
        }
      },
      "source": [
        "np.max(data.train.images[0])"
      ],
      "execution_count": 0,
      "outputs": [
        {
          "output_type": "execute_result",
          "data": {
            "text/plain": [
              "1.0"
            ]
          },
          "metadata": {
            "tags": []
          },
          "execution_count": 18
        }
      ]
    },
    {
      "cell_type": "code",
      "metadata": {
        "id": "flZX7-5QzpCV",
        "colab_type": "code",
        "outputId": "b27328aa-f79a-435d-d26c-e754bdcbe03d",
        "colab": {
          "base_uri": "https://localhost:8080/",
          "height": 34
        }
      },
      "source": [
        "np.min(data.train.images[0])"
      ],
      "execution_count": 0,
      "outputs": [
        {
          "output_type": "execute_result",
          "data": {
            "text/plain": [
              "0.0"
            ]
          },
          "metadata": {
            "tags": []
          },
          "execution_count": 19
        }
      ]
    },
    {
      "cell_type": "markdown",
      "metadata": {
        "id": "HjF45_JmeR-M",
        "colab_type": "text"
      },
      "source": [
        "Let's reshape the image so that it's 28 x 28 x 1, where the input image is 28 pixels by 28 pixels, 1 channel (gray scale). In this case, the first dimension is the number of the set of images, and can be any size (so we set it to -1). The second and third dimensions are width and height, and the last is the image channel."
      ]
    },
    {
      "cell_type": "code",
      "metadata": {
        "id": "_DV53P1Rztvt",
        "colab_type": "code",
        "colab": {}
      },
      "source": [
        "# Reshape training and testing image for input\n",
        "train_X = data.train.images.reshape(-1, 28, 28, 1)\n",
        "test_X = data.test.images.reshape(-1,28,28,1)"
      ],
      "execution_count": 0,
      "outputs": []
    },
    {
      "cell_type": "code",
      "metadata": {
        "id": "qOuq381D0c8C",
        "colab_type": "code",
        "outputId": "25aa5c4c-4d65-4896-d7f9-4429ba684a97",
        "colab": {
          "base_uri": "https://localhost:8080/",
          "height": 34
        }
      },
      "source": [
        "train_X.shape, test_X.shape"
      ],
      "execution_count": 0,
      "outputs": [
        {
          "output_type": "execute_result",
          "data": {
            "text/plain": [
              "((55000, 28, 28, 1), (10000, 28, 28, 1))"
            ]
          },
          "metadata": {
            "tags": []
          },
          "execution_count": 21
        }
      ]
    },
    {
      "cell_type": "code",
      "metadata": {
        "id": "PiNsH9ik03p1",
        "colab_type": "code",
        "colab": {}
      },
      "source": [
        "# Reshape training and testing image for output\n",
        "train_y = data.train.labels\n",
        "test_y = data.test.labels"
      ],
      "execution_count": 0,
      "outputs": []
    },
    {
      "cell_type": "code",
      "metadata": {
        "id": "Mu0FeLqN0_Km",
        "colab_type": "code",
        "outputId": "41464934-d2c1-4ea3-e70a-c41ab2693b88",
        "colab": {
          "base_uri": "https://localhost:8080/",
          "height": 34
        }
      },
      "source": [
        "train_y.shape, test_y.shape"
      ],
      "execution_count": 0,
      "outputs": [
        {
          "output_type": "execute_result",
          "data": {
            "text/plain": [
              "((55000, 10), (10000, 10))"
            ]
          },
          "metadata": {
            "tags": []
          },
          "execution_count": 23
        }
      ]
    },
    {
      "cell_type": "markdown",
      "metadata": {
        "id": "vCqRZF8Ael8T",
        "colab_type": "text"
      },
      "source": [
        "## Deep Learning"
      ]
    },
    {
      "cell_type": "markdown",
      "metadata": {
        "id": "UHr3F1aIepLw",
        "colab_type": "text"
      },
      "source": [
        "You'll use three convolutional layers:\n",
        "\n",
        "- The first layer will have 32-3 x 3 filters,\n",
        "- The second layer will have 64-3 x 3 filters and\n",
        "- The third layer will have 128-3 x 3 filters.\n",
        "In addition, there are three max-pooling layers each of size 2 x 2.![alt text](http://res.cloudinary.com/dyd911kmh/image/upload/f_auto,q_auto:best/v1512486717/fashion-mnist-architecture_htbpsz.png)"
      ]
    },
    {
      "cell_type": "markdown",
      "metadata": {
        "id": "BwjS-t2we3gv",
        "colab_type": "text"
      },
      "source": [
        "Define training iteration"
      ]
    },
    {
      "cell_type": "code",
      "metadata": {
        "id": "ne93AxXz1A_s",
        "colab_type": "code",
        "colab": {}
      },
      "source": [
        "training_iters = 50 \n",
        "learning_rate = 0.001 \n",
        "batch_size = 128"
      ],
      "execution_count": 0,
      "outputs": []
    },
    {
      "cell_type": "markdown",
      "metadata": {
        "id": "Us_OhCImfLZY",
        "colab_type": "text"
      },
      "source": [
        "### First parameter"
      ]
    },
    {
      "cell_type": "markdown",
      "metadata": {
        "id": "U9hAEm8cfO59",
        "colab_type": "text"
      },
      "source": [
        "Create general parameters for the initial parameter model"
      ]
    },
    {
      "cell_type": "code",
      "metadata": {
        "id": "G0CCHuRS1DWt",
        "colab_type": "code",
        "colab": {}
      },
      "source": [
        "# MNIST data input (img shape: 28*28)\n",
        "n_input = 28\n",
        "\n",
        "# MNIST total classes (0-9 digits)\n",
        "n_classes = 10"
      ],
      "execution_count": 0,
      "outputs": []
    },
    {
      "cell_type": "markdown",
      "metadata": {
        "id": "gUJ55bWdfSuC",
        "colab_type": "text"
      },
      "source": [
        "### Input and Output"
      ]
    },
    {
      "cell_type": "markdown",
      "metadata": {
        "id": "t9UIYfsEfVkf",
        "colab_type": "text"
      },
      "source": [
        "create parameters for input and output"
      ]
    },
    {
      "cell_type": "code",
      "metadata": {
        "id": "vlSovLZT1FNd",
        "colab_type": "code",
        "colab": {}
      },
      "source": [
        "#both placeholders are of type float\n",
        "x = tf.placeholder(\"float\", [None, 28,28,1])\n",
        "y = tf.placeholder(\"float\", [None, n_classes])"
      ],
      "execution_count": 0,
      "outputs": []
    },
    {
      "cell_type": "markdown",
      "metadata": {
        "id": "2vFtiIuMf7Dv",
        "colab_type": "text"
      },
      "source": [
        "### Creating wrappers for simplicity"
      ]
    },
    {
      "cell_type": "markdown",
      "metadata": {
        "id": "A-gc15gMf8L4",
        "colab_type": "text"
      },
      "source": [
        "In your network architecture model, you will have multiple convolution and max-pooling layers. In such cases, it's always a better idea to define convolution and max-pooling functions, so that you can call them as many times you want to use them in your network."
      ]
    },
    {
      "cell_type": "code",
      "metadata": {
        "id": "ufR1pSld1HJN",
        "colab_type": "code",
        "colab": {}
      },
      "source": [
        "def conv2d(x, W, b, strides=1):\n",
        "    # Conv2D wrapper, with bias and relu activation\n",
        "    x = tf.nn.conv2d(x, W, strides=[1, strides, strides, 1], padding='SAME')\n",
        "    x = tf.nn.bias_add(x, b)\n",
        "    return tf.nn.relu(x) \n",
        "\n",
        "def maxpool2d(x, k=2):\n",
        "    return tf.nn.max_pool(x, ksize=[1, k, k, 1], strides=[1, k, k, 1],padding='SAME')"
      ],
      "execution_count": 0,
      "outputs": []
    },
    {
      "cell_type": "markdown",
      "metadata": {
        "id": "OjBTZn_OgJ_Z",
        "colab_type": "text"
      },
      "source": [
        "After you have defined the conv2d and maxpool2d wrappers, now you can now define your weights and biases variables. So, let's get started!"
      ]
    },
    {
      "cell_type": "code",
      "metadata": {
        "id": "1zxsCIkr1JRm",
        "colab_type": "code",
        "colab": {}
      },
      "source": [
        "weights = {\n",
        "    'wc1': tf.get_variable('W0', shape=(3,3,1,32), initializer=tf.contrib.layers.xavier_initializer()), \n",
        "    'wc2': tf.get_variable('W1', shape=(3,3,32,64), initializer=tf.contrib.layers.xavier_initializer()), \n",
        "    'wc3': tf.get_variable('W2', shape=(3,3,64,128), initializer=tf.contrib.layers.xavier_initializer()), \n",
        "    'wd1': tf.get_variable('W3', shape=(4*4*128,128), initializer=tf.contrib.layers.xavier_initializer()), \n",
        "    'out': tf.get_variable('W6', shape=(128,n_classes), initializer=tf.contrib.layers.xavier_initializer()), \n",
        "}\n",
        "biases = {\n",
        "    'bc1': tf.get_variable('B0', shape=(32), initializer=tf.contrib.layers.xavier_initializer()),\n",
        "    'bc2': tf.get_variable('B1', shape=(64), initializer=tf.contrib.layers.xavier_initializer()),\n",
        "    'bc3': tf.get_variable('B2', shape=(128), initializer=tf.contrib.layers.xavier_initializer()),\n",
        "    'bd1': tf.get_variable('B3', shape=(128), initializer=tf.contrib.layers.xavier_initializer()),\n",
        "    'out': tf.get_variable('B4', shape=(10), initializer=tf.contrib.layers.xavier_initializer()),\n",
        "}"
      ],
      "execution_count": 0,
      "outputs": []
    },
    {
      "cell_type": "markdown",
      "metadata": {
        "id": "w4EJgr5kgUMB",
        "colab_type": "text"
      },
      "source": [
        "Now, it's time to define the network architecture"
      ]
    },
    {
      "cell_type": "code",
      "metadata": {
        "id": "_Tg-T4jb1L1V",
        "colab_type": "code",
        "colab": {}
      },
      "source": [
        "def conv_net(x, weights, biases):  \n",
        "\n",
        "    # here we call the conv2d function we had defined above and pass the input image x, weights wc1 and bias bc1.\n",
        "    conv1 = conv2d(x, weights['wc1'], biases['bc1'])\n",
        "    # Max Pooling (down-sampling), this chooses the max value from a 2*2 matrix window and outputs a 14*14 matrix.\n",
        "    conv1 = maxpool2d(conv1, k=2)\n",
        "\n",
        "    # Convolution Layer\n",
        "    # here we call the conv2d function we had defined above and pass the input image x, weights wc2 and bias bc2.\n",
        "    conv2 = conv2d(conv1, weights['wc2'], biases['bc2'])\n",
        "    # Max Pooling (down-sampling), this chooses the max value from a 2*2 matrix window and outputs a 7*7 matrix.\n",
        "    conv2 = maxpool2d(conv2, k=2)\n",
        "\n",
        "    conv3 = conv2d(conv2, weights['wc3'], biases['bc3'])\n",
        "    # Max Pooling (down-sampling), this chooses the max value from a 2*2 matrix window and outputs a 4*4.\n",
        "    conv3 = maxpool2d(conv3, k=2)\n",
        "\n",
        "\n",
        "\n",
        "    # Fully connected layer\n",
        "    # Reshape conv2 output to fit fully connected layer input\n",
        "    fc1 = tf.reshape(conv3, [-1, weights['wd1'].get_shape().as_list()[0]])\n",
        "    fc1 = tf.add(tf.matmul(fc1, weights['wd1']), biases['bd1'])\n",
        "    fc1 = tf.nn.relu(fc1)\n",
        "    # Output, class prediction\n",
        "    # finally we multiply the fully connected layer with the weights and add a bias term. \n",
        "    out = tf.add(tf.matmul(fc1, weights['out']), biases['out'])\n",
        "    return out"
      ],
      "execution_count": 0,
      "outputs": []
    },
    {
      "cell_type": "markdown",
      "metadata": {
        "id": "QRrM_W3sglVv",
        "colab_type": "text"
      },
      "source": [
        "### Loss and Optimizer Nodes"
      ]
    },
    {
      "cell_type": "markdown",
      "metadata": {
        "id": "rXn5lqZbgmh5",
        "colab_type": "text"
      },
      "source": [
        "You will start with constructing a model and call the conv_net() function by passing in input x, weights and biases."
      ]
    },
    {
      "cell_type": "code",
      "metadata": {
        "id": "qJEBdJWx1OOW",
        "colab_type": "code",
        "outputId": "e4d920d7-2731-4f36-ab5f-0d82b37ac273",
        "colab": {
          "base_uri": "https://localhost:8080/",
          "height": 153
        }
      },
      "source": [
        "pred = conv_net(x, weights, biases)\n",
        "\n",
        "cost = tf.reduce_mean(tf.nn.softmax_cross_entropy_with_logits(logits=pred, labels=y))\n",
        "\n",
        "optimizer = tf.train.AdamOptimizer(learning_rate=learning_rate).minimize(cost)"
      ],
      "execution_count": 0,
      "outputs": [
        {
          "output_type": "stream",
          "text": [
            "W0808 15:24:16.028623 140545727846272 deprecation.py:323] From <ipython-input-30-989f812044df>:3: softmax_cross_entropy_with_logits (from tensorflow.python.ops.nn_ops) is deprecated and will be removed in a future version.\n",
            "Instructions for updating:\n",
            "\n",
            "Future major versions of TensorFlow will allow gradients to flow\n",
            "into the labels input on backprop by default.\n",
            "\n",
            "See `tf.nn.softmax_cross_entropy_with_logits_v2`.\n",
            "\n"
          ],
          "name": "stderr"
        }
      ]
    },
    {
      "cell_type": "markdown",
      "metadata": {
        "id": "ijpHHffcg1oi",
        "colab_type": "text"
      },
      "source": [
        "### Evaluate Model Node"
      ]
    },
    {
      "cell_type": "markdown",
      "metadata": {
        "id": "WYkmHTbeg3V-",
        "colab_type": "text"
      },
      "source": [
        "To test your model, let's define two more nodes: correct_prediction and accuracy."
      ]
    },
    {
      "cell_type": "code",
      "metadata": {
        "id": "EOTm2htf1QSl",
        "colab_type": "code",
        "colab": {}
      },
      "source": [
        "#Here you check whether the index of the maximum value of the predicted image is equal to the actual labelled image. and both will be a column vector.\n",
        "correct_prediction = tf.equal(tf.argmax(pred, 1), tf.argmax(y, 1))\n",
        "\n",
        "#calculate accuracy across all the given images and average them out. \n",
        "accuracy = tf.reduce_mean(tf.cast(correct_prediction, tf.float32))"
      ],
      "execution_count": 0,
      "outputs": []
    },
    {
      "cell_type": "markdown",
      "metadata": {
        "id": "FYPLisAXhDgO",
        "colab_type": "text"
      },
      "source": [
        "Remember that your weights and biases are variables and that you have to initialize them before you can make use of them."
      ]
    },
    {
      "cell_type": "code",
      "metadata": {
        "id": "LDTYuRWh1TGF",
        "colab_type": "code",
        "colab": {}
      },
      "source": [
        "# Initializing the variables\n",
        "init = tf.global_variables_initializer()"
      ],
      "execution_count": 0,
      "outputs": []
    },
    {
      "cell_type": "markdown",
      "metadata": {
        "id": "SRFCKm7DhIo6",
        "colab_type": "text"
      },
      "source": [
        "### Training and Testing the Model"
      ]
    },
    {
      "cell_type": "markdown",
      "metadata": {
        "id": "Hw0TH8tNhKKb",
        "colab_type": "text"
      },
      "source": [
        "When you train and test your model in TensorFlow, you go through the following steps:\n",
        "- You start off with launching the graph. \n",
        "- Then, you run the session, which will execute the variables that were initialized in the previous step and evaluates the tensor.\n",
        "- Next, you define a for loop that runs for the number of training iterations you had specified in the beginning.\n",
        "- You will then input the images based on the batch size you pass in batch_x and their respective labels in batch_y.\n",
        "- now you feed the placeholders x and y the actual data in a dictionary and run the session by passing the cost and the accuracy that you had defined earlier.\n",
        "- You can print the loss and training accuracy after each epoch (training iteration) is completed."
      ]
    },
    {
      "cell_type": "code",
      "metadata": {
        "id": "ZQHXAIa-1U7t",
        "colab_type": "code",
        "outputId": "2d0b591b-733f-4044-cfe5-b3f0e0db0f63",
        "colab": {
          "base_uri": "https://localhost:8080/",
          "height": 1000
        }
      },
      "source": [
        "with tf.Session() as sess:\n",
        "    sess.run(init) \n",
        "    train_loss = []\n",
        "    test_loss = []\n",
        "    train_accuracy = []\n",
        "    test_accuracy = []\n",
        "    summary_writer = tf.summary.FileWriter('./Output', sess.graph)\n",
        "    for i in range(training_iters):\n",
        "        for batch in range(len(train_X)//batch_size):\n",
        "            batch_x = train_X[batch*batch_size:min((batch+1)*batch_size,len(train_X))]\n",
        "            batch_y = train_y[batch*batch_size:min((batch+1)*batch_size,len(train_y))]    \n",
        "            # Run optimization op (backprop).\n",
        "                # Calculate batch loss and accuracy\n",
        "            opt = sess.run(optimizer, feed_dict={x: batch_x,\n",
        "                                                              y: batch_y})\n",
        "            loss, acc = sess.run([cost, accuracy], feed_dict={x: batch_x,\n",
        "                                                              y: batch_y})\n",
        "        print(\"Iter \" + str(i) + \", Loss= \" + \\\n",
        "                      \"{:.6f}\".format(loss) + \", Training Accuracy= \" + \\\n",
        "                      \"{:.5f}\".format(acc))\n",
        "        print(\"Optimization Finished!\")\n",
        "\n",
        "        # Calculate accuracy for all 10000 mnist test images\n",
        "        test_acc,valid_loss = sess.run([accuracy,cost], feed_dict={x: test_X,y : test_y})\n",
        "        train_loss.append(loss)\n",
        "        test_loss.append(valid_loss)\n",
        "        train_accuracy.append(acc)\n",
        "        test_accuracy.append(test_acc)\n",
        "        print(\"Testing Accuracy:\",\"{:.5f}\".format(test_acc))\n",
        "    summary_writer.close()"
      ],
      "execution_count": 0,
      "outputs": [
        {
          "output_type": "stream",
          "text": [
            "Iter 0, Loss= 0.300235, Training Accuracy= 0.88281\n",
            "Optimization Finished!\n",
            "Testing Accuracy: 0.85160\n",
            "Iter 1, Loss= 0.208059, Training Accuracy= 0.91406\n",
            "Optimization Finished!\n",
            "Testing Accuracy: 0.88160\n",
            "Iter 2, Loss= 0.167542, Training Accuracy= 0.93750\n",
            "Optimization Finished!\n",
            "Testing Accuracy: 0.89280\n",
            "Iter 3, Loss= 0.157450, Training Accuracy= 0.93750\n",
            "Optimization Finished!\n",
            "Testing Accuracy: 0.89550\n",
            "Iter 4, Loss= 0.141209, Training Accuracy= 0.94531\n",
            "Optimization Finished!\n",
            "Testing Accuracy: 0.89700\n",
            "Iter 5, Loss= 0.140848, Training Accuracy= 0.95312\n",
            "Optimization Finished!\n",
            "Testing Accuracy: 0.89690\n",
            "Iter 6, Loss= 0.128928, Training Accuracy= 0.96094\n",
            "Optimization Finished!\n",
            "Testing Accuracy: 0.90050\n",
            "Iter 7, Loss= 0.120609, Training Accuracy= 0.95312\n",
            "Optimization Finished!\n",
            "Testing Accuracy: 0.90210\n",
            "Iter 8, Loss= 0.097009, Training Accuracy= 0.97656\n",
            "Optimization Finished!\n",
            "Testing Accuracy: 0.90170\n",
            "Iter 9, Loss= 0.089080, Training Accuracy= 0.98438\n",
            "Optimization Finished!\n",
            "Testing Accuracy: 0.90430\n",
            "Iter 10, Loss= 0.094350, Training Accuracy= 0.96094\n",
            "Optimization Finished!\n",
            "Testing Accuracy: 0.90290\n",
            "Iter 11, Loss= 0.049209, Training Accuracy= 0.98438\n",
            "Optimization Finished!\n",
            "Testing Accuracy: 0.90480\n",
            "Iter 12, Loss= 0.061982, Training Accuracy= 0.99219\n",
            "Optimization Finished!\n",
            "Testing Accuracy: 0.89740\n",
            "Iter 13, Loss= 0.053451, Training Accuracy= 0.97656\n",
            "Optimization Finished!\n",
            "Testing Accuracy: 0.90530\n",
            "Iter 14, Loss= 0.067301, Training Accuracy= 0.97656\n",
            "Optimization Finished!\n",
            "Testing Accuracy: 0.90110\n",
            "Iter 15, Loss= 0.038247, Training Accuracy= 0.98438\n",
            "Optimization Finished!\n",
            "Testing Accuracy: 0.90690\n",
            "Iter 16, Loss= 0.040760, Training Accuracy= 0.97656\n",
            "Optimization Finished!\n",
            "Testing Accuracy: 0.90190\n",
            "Iter 17, Loss= 0.050655, Training Accuracy= 0.97656\n",
            "Optimization Finished!\n",
            "Testing Accuracy: 0.90690\n",
            "Iter 18, Loss= 0.034076, Training Accuracy= 0.99219\n",
            "Optimization Finished!\n",
            "Testing Accuracy: 0.90590\n",
            "Iter 19, Loss= 0.038114, Training Accuracy= 0.98438\n",
            "Optimization Finished!\n",
            "Testing Accuracy: 0.90060\n",
            "Iter 20, Loss= 0.027368, Training Accuracy= 1.00000\n",
            "Optimization Finished!\n",
            "Testing Accuracy: 0.90400\n",
            "Iter 21, Loss= 0.025543, Training Accuracy= 0.99219\n",
            "Optimization Finished!\n",
            "Testing Accuracy: 0.90380\n",
            "Iter 22, Loss= 0.029057, Training Accuracy= 0.99219\n",
            "Optimization Finished!\n",
            "Testing Accuracy: 0.90590\n",
            "Iter 23, Loss= 0.041334, Training Accuracy= 0.99219\n",
            "Optimization Finished!\n",
            "Testing Accuracy: 0.89930\n",
            "Iter 24, Loss= 0.021188, Training Accuracy= 1.00000\n",
            "Optimization Finished!\n",
            "Testing Accuracy: 0.90610\n",
            "Iter 25, Loss= 0.015574, Training Accuracy= 0.99219\n",
            "Optimization Finished!\n",
            "Testing Accuracy: 0.90780\n",
            "Iter 26, Loss= 0.006318, Training Accuracy= 1.00000\n",
            "Optimization Finished!\n",
            "Testing Accuracy: 0.91510\n",
            "Iter 27, Loss= 0.007651, Training Accuracy= 1.00000\n",
            "Optimization Finished!\n",
            "Testing Accuracy: 0.90940\n",
            "Iter 28, Loss= 0.018983, Training Accuracy= 0.99219\n",
            "Optimization Finished!\n",
            "Testing Accuracy: 0.90770\n",
            "Iter 29, Loss= 0.014142, Training Accuracy= 0.99219\n",
            "Optimization Finished!\n",
            "Testing Accuracy: 0.90780\n",
            "Iter 30, Loss= 0.004147, Training Accuracy= 1.00000\n",
            "Optimization Finished!\n",
            "Testing Accuracy: 0.91320\n",
            "Iter 31, Loss= 0.005051, Training Accuracy= 1.00000\n",
            "Optimization Finished!\n",
            "Testing Accuracy: 0.91200\n",
            "Iter 32, Loss= 0.004862, Training Accuracy= 1.00000\n",
            "Optimization Finished!\n",
            "Testing Accuracy: 0.90630\n",
            "Iter 33, Loss= 0.003786, Training Accuracy= 1.00000\n",
            "Optimization Finished!\n",
            "Testing Accuracy: 0.90830\n",
            "Iter 34, Loss= 0.011533, Training Accuracy= 0.99219\n",
            "Optimization Finished!\n",
            "Testing Accuracy: 0.91100\n",
            "Iter 35, Loss= 0.003755, Training Accuracy= 1.00000\n",
            "Optimization Finished!\n",
            "Testing Accuracy: 0.91080\n",
            "Iter 36, Loss= 0.005446, Training Accuracy= 1.00000\n",
            "Optimization Finished!\n",
            "Testing Accuracy: 0.90870\n",
            "Iter 37, Loss= 0.006496, Training Accuracy= 1.00000\n",
            "Optimization Finished!\n",
            "Testing Accuracy: 0.90910\n",
            "Iter 38, Loss= 0.009046, Training Accuracy= 1.00000\n",
            "Optimization Finished!\n",
            "Testing Accuracy: 0.91290\n",
            "Iter 39, Loss= 0.002195, Training Accuracy= 1.00000\n",
            "Optimization Finished!\n",
            "Testing Accuracy: 0.91320\n",
            "Iter 40, Loss= 0.002643, Training Accuracy= 1.00000\n",
            "Optimization Finished!\n",
            "Testing Accuracy: 0.91150\n",
            "Iter 41, Loss= 0.004826, Training Accuracy= 1.00000\n",
            "Optimization Finished!\n",
            "Testing Accuracy: 0.90680\n",
            "Iter 42, Loss= 0.003534, Training Accuracy= 1.00000\n",
            "Optimization Finished!\n",
            "Testing Accuracy: 0.90860\n",
            "Iter 43, Loss= 0.013521, Training Accuracy= 0.99219\n",
            "Optimization Finished!\n",
            "Testing Accuracy: 0.90800\n",
            "Iter 44, Loss= 0.014039, Training Accuracy= 0.99219\n",
            "Optimization Finished!\n",
            "Testing Accuracy: 0.90810\n",
            "Iter 45, Loss= 0.002920, Training Accuracy= 1.00000\n",
            "Optimization Finished!\n",
            "Testing Accuracy: 0.90080\n",
            "Iter 46, Loss= 0.006834, Training Accuracy= 1.00000\n",
            "Optimization Finished!\n",
            "Testing Accuracy: 0.91080\n",
            "Iter 47, Loss= 0.002120, Training Accuracy= 1.00000\n",
            "Optimization Finished!\n",
            "Testing Accuracy: 0.91210\n",
            "Iter 48, Loss= 0.003946, Training Accuracy= 1.00000\n",
            "Optimization Finished!\n",
            "Testing Accuracy: 0.91010\n",
            "Iter 49, Loss= 0.001418, Training Accuracy= 1.00000\n",
            "Optimization Finished!\n",
            "Testing Accuracy: 0.91090\n"
          ],
          "name": "stdout"
        }
      ]
    },
    {
      "cell_type": "markdown",
      "metadata": {
        "id": "gzwnccpmiKWk",
        "colab_type": "text"
      },
      "source": [
        "Let's put your model evaluation into perspective and plot the accuracy and loss plots between training and validation data:"
      ]
    },
    {
      "cell_type": "code",
      "metadata": {
        "id": "sJYIPYPr1XSl",
        "colab_type": "code",
        "outputId": "af35555d-b797-4d39-8787-b82fa065bcc6",
        "colab": {
          "base_uri": "https://localhost:8080/",
          "height": 317
        }
      },
      "source": [
        "plt.plot(range(len(train_loss)), train_loss, 'b', label='Training loss')\n",
        "plt.plot(range(len(train_loss)), test_loss, 'r', label='Test loss')\n",
        "plt.title('Training and Test loss')\n",
        "plt.xlabel('Epochs ',fontsize=16)\n",
        "plt.ylabel('Loss',fontsize=16)\n",
        "plt.legend()\n",
        "plt.figure()\n",
        "plt.show()"
      ],
      "execution_count": 0,
      "outputs": [
        {
          "output_type": "display_data",
          "data": {
            "image/png": "[encoded data removed]",
            "text/plain": [
              "<Figure size 432x288 with 1 Axes>"
            ]
          },
          "metadata": {
            "tags": []
          }
        },
        {
          "output_type": "display_data",
          "data": {
            "text/plain": [
              "<Figure size 432x288 with 0 Axes>"
            ]
          },
          "metadata": {
            "tags": []
          }
        }
      ]
    },
    {
      "cell_type": "code",
      "metadata": {
        "id": "bCjSTNp4I8aI",
        "colab_type": "code",
        "outputId": "a2afbb38-2c31-4e74-a88a-8111e3783864",
        "colab": {
          "base_uri": "https://localhost:8080/",
          "height": 317
        }
      },
      "source": [
        "plt.plot(range(len(train_loss)), train_accuracy, 'b', label='Training Accuracy')\n",
        "plt.plot(range(len(train_loss)), test_accuracy, 'r', label='Test Accuracy')\n",
        "plt.title('Training and Test Accuracy')\n",
        "plt.xlabel('Epochs ',fontsize=16)\n",
        "plt.ylabel('Loss',fontsize=16)\n",
        "plt.legend()\n",
        "plt.figure()\n",
        "plt.show()"
      ],
      "execution_count": 0,
      "outputs": [
        {
          "output_type": "display_data",
          "data": {
            "image/png": "[encoded data removed]",
            "text/plain": [
              "<Figure size 432x288 with 1 Axes>"
            ]
          },
          "metadata": {
            "tags": []
          }
        },
        {
          "output_type": "display_data",
          "data": {
            "text/plain": [
              "<Figure size 432x288 with 0 Axes>"
            ]
          },
          "metadata": {
            "tags": []
          }
        }
      ]
    }
  ]
}